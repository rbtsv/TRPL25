{
 "cells": [
  {
   "cell_type": "code",
   "execution_count": 2,
   "id": "90a8189e",
   "metadata": {},
   "outputs": [
    {
     "data": {
      "text/plain": [
       "[1, 2]"
      ]
     },
     "execution_count": 2,
     "metadata": {},
     "output_type": "execute_result"
    }
   ],
   "source": [
    "(a := [1,2])"
   ]
  },
  {
   "cell_type": "code",
   "execution_count": 5,
   "id": "12686adc",
   "metadata": {},
   "outputs": [
    {
     "data": {
      "text/plain": [
       "[1, 2]"
      ]
     },
     "execution_count": 5,
     "metadata": {},
     "output_type": "execute_result"
    }
   ],
   "source": [
    "(b := [1,2])"
   ]
  },
  {
   "cell_type": "code",
   "execution_count": 6,
   "id": "8e4b57de",
   "metadata": {},
   "outputs": [
    {
     "data": {
      "text/plain": [
       "True"
      ]
     },
     "execution_count": 6,
     "metadata": {},
     "output_type": "execute_result"
    }
   ],
   "source": [
    "a == b"
   ]
  },
  {
   "cell_type": "code",
   "execution_count": 7,
   "id": "5381c629",
   "metadata": {},
   "outputs": [
    {
     "data": {
      "text/plain": [
       "False"
      ]
     },
     "execution_count": 7,
     "metadata": {},
     "output_type": "execute_result"
    }
   ],
   "source": [
    "a is b"
   ]
  },
  {
   "cell_type": "code",
   "execution_count": 8,
   "id": "76aa2dd0",
   "metadata": {},
   "outputs": [],
   "source": [
    "ta = (1,2)"
   ]
  },
  {
   "cell_type": "code",
   "execution_count": 10,
   "id": "902235cb",
   "metadata": {},
   "outputs": [],
   "source": [
    "tb = (1,2)"
   ]
  },
  {
   "cell_type": "code",
   "execution_count": 11,
   "id": "360f803a",
   "metadata": {},
   "outputs": [
    {
     "data": {
      "text/plain": [
       "False"
      ]
     },
     "execution_count": 11,
     "metadata": {},
     "output_type": "execute_result"
    }
   ],
   "source": [
    "ta is tb"
   ]
  },
  {
   "cell_type": "code",
   "execution_count": 12,
   "id": "6bc1008f",
   "metadata": {},
   "outputs": [],
   "source": [
    "a = 1"
   ]
  },
  {
   "cell_type": "code",
   "execution_count": 13,
   "id": "1c22e9ef",
   "metadata": {},
   "outputs": [],
   "source": [
    "b = 1"
   ]
  },
  {
   "cell_type": "code",
   "execution_count": 14,
   "id": "6307b9e8",
   "metadata": {},
   "outputs": [
    {
     "data": {
      "text/plain": [
       "True"
      ]
     },
     "execution_count": 14,
     "metadata": {},
     "output_type": "execute_result"
    }
   ],
   "source": [
    "a is b"
   ]
  },
  {
   "cell_type": "code",
   "execution_count": 15,
   "id": "9d3eb547",
   "metadata": {},
   "outputs": [
    {
     "name": "stdout",
     "output_type": "stream",
     "text": [
      "False\n"
     ]
    }
   ],
   "source": [
    "x = 47534859689743\n",
    "y = 47534859689743\n",
    "print(x is y)"
   ]
  },
  {
   "cell_type": "code",
   "execution_count": 16,
   "id": "3c461405",
   "metadata": {},
   "outputs": [
    {
     "name": "stdout",
     "output_type": "stream",
     "text": [
      "True\n"
     ]
    }
   ],
   "source": [
    "a = [1,2]\n",
    "b = a\n",
    "print(a is b)"
   ]
  },
  {
   "cell_type": "code",
   "execution_count": 17,
   "id": "d5c5be02",
   "metadata": {},
   "outputs": [
    {
     "name": "stdout",
     "output_type": "stream",
     "text": [
      "[1, 2, 3, 4]\n"
     ]
    }
   ],
   "source": [
    "a += [3,4]\n",
    "print(b)"
   ]
  },
  {
   "cell_type": "code",
   "execution_count": 18,
   "id": "e586785c",
   "metadata": {},
   "outputs": [
    {
     "name": "stdout",
     "output_type": "stream",
     "text": [
      "[1, 2, 3, 4, 5]\n"
     ]
    }
   ],
   "source": [
    "b.append(5)\n",
    "print(a)"
   ]
  },
  {
   "cell_type": "code",
   "execution_count": 19,
   "id": "8130f536",
   "metadata": {},
   "outputs": [],
   "source": [
    "a = a + [6]"
   ]
  },
  {
   "cell_type": "code",
   "execution_count": 22,
   "id": "a5f20ac4",
   "metadata": {},
   "outputs": [
    {
     "data": {
      "text/plain": [
       "([1, 2, 3, 4, 5], [1, 2, 3, 4, 5, 6], False)"
      ]
     },
     "execution_count": 22,
     "metadata": {},
     "output_type": "execute_result"
    }
   ],
   "source": [
    "b, a, a is b"
   ]
  },
  {
   "cell_type": "code",
   "execution_count": 23,
   "id": "20663c37",
   "metadata": {},
   "outputs": [],
   "source": [
    "a.append(a)"
   ]
  },
  {
   "cell_type": "code",
   "execution_count": 24,
   "id": "e63a0e50",
   "metadata": {},
   "outputs": [
    {
     "data": {
      "text/plain": [
       "[1, 2, 3, 4, 5, 6, [...]]"
      ]
     },
     "execution_count": 24,
     "metadata": {},
     "output_type": "execute_result"
    }
   ],
   "source": [
    "a"
   ]
  },
  {
   "cell_type": "code",
   "execution_count": 25,
   "id": "5041f0b8",
   "metadata": {},
   "outputs": [
    {
     "data": {
      "text/plain": [
       "1"
      ]
     },
     "execution_count": 25,
     "metadata": {},
     "output_type": "execute_result"
    }
   ],
   "source": [
    "a[-1][0]"
   ]
  },
  {
   "cell_type": "code",
   "execution_count": 26,
   "id": "66f5c743",
   "metadata": {},
   "outputs": [
    {
     "data": {
      "text/plain": [
       "1"
      ]
     },
     "execution_count": 26,
     "metadata": {},
     "output_type": "execute_result"
    }
   ],
   "source": [
    "a[-1][-1][0]"
   ]
  },
  {
   "cell_type": "code",
   "execution_count": 27,
   "id": "ce858acc",
   "metadata": {},
   "outputs": [],
   "source": [
    "def method(self, x, y):\n",
    "    ..."
   ]
  },
  {
   "cell_type": "code",
   "execution_count": 67,
   "id": "be0ad829",
   "metadata": {},
   "outputs": [],
   "source": [
    "class myClass:\n",
    "    xx: int = property(lambda self: self.x)\n",
    "        \n",
    "    def __init__(self, x):\n",
    "        self.x = x\n",
    "        self.y = [1,2, 3]\n",
    "        \n",
    "    def list_to_y(self, l=[]):\n",
    "        l.append(self.x)\n",
    "        self.y = l\n",
    "        \n",
    "        \n",
    "    def inc(self):\n",
    "        self.x += 1\n",
    "    "
   ]
  },
  {
   "cell_type": "code",
   "execution_count": 68,
   "id": "93136961",
   "metadata": {},
   "outputs": [],
   "source": [
    "c = myClass(1)"
   ]
  },
  {
   "cell_type": "code",
   "execution_count": 69,
   "id": "618e87fa",
   "metadata": {},
   "outputs": [
    {
     "data": {
      "text/plain": [
       "([1, 2, 3], 1)"
      ]
     },
     "execution_count": 69,
     "metadata": {},
     "output_type": "execute_result"
    }
   ],
   "source": [
    "c.y, c.x"
   ]
  },
  {
   "cell_type": "code",
   "execution_count": 70,
   "id": "67d586e9",
   "metadata": {},
   "outputs": [],
   "source": [
    "c.list_to_y()"
   ]
  },
  {
   "cell_type": "code",
   "execution_count": 71,
   "id": "fe600e37",
   "metadata": {},
   "outputs": [
    {
     "data": {
      "text/plain": [
       "([1], 1)"
      ]
     },
     "execution_count": 71,
     "metadata": {},
     "output_type": "execute_result"
    }
   ],
   "source": [
    "c.y, c.x"
   ]
  },
  {
   "cell_type": "code",
   "execution_count": 72,
   "id": "962130c0",
   "metadata": {},
   "outputs": [],
   "source": [
    "cc = myClass(2)"
   ]
  },
  {
   "cell_type": "code",
   "execution_count": 73,
   "id": "38d4764b",
   "metadata": {},
   "outputs": [
    {
     "data": {
      "text/plain": [
       "[1, 2, 3]"
      ]
     },
     "execution_count": 73,
     "metadata": {},
     "output_type": "execute_result"
    }
   ],
   "source": [
    "cc.y"
   ]
  },
  {
   "cell_type": "code",
   "execution_count": 74,
   "id": "9f754f76",
   "metadata": {},
   "outputs": [],
   "source": [
    "c.list_to_y()"
   ]
  },
  {
   "cell_type": "code",
   "execution_count": 75,
   "id": "a9ef8fad",
   "metadata": {},
   "outputs": [
    {
     "data": {
      "text/plain": [
       "[1, 2, 3]"
      ]
     },
     "execution_count": 75,
     "metadata": {},
     "output_type": "execute_result"
    }
   ],
   "source": [
    "cc.y"
   ]
  },
  {
   "cell_type": "code",
   "execution_count": 76,
   "id": "8ea8dbd4",
   "metadata": {},
   "outputs": [
    {
     "data": {
      "text/plain": [
       "2"
      ]
     },
     "execution_count": 76,
     "metadata": {},
     "output_type": "execute_result"
    }
   ],
   "source": [
    "cc.x"
   ]
  },
  {
   "cell_type": "code",
   "execution_count": 77,
   "id": "02a3cf5f",
   "metadata": {},
   "outputs": [],
   "source": [
    "c.list_to_y()"
   ]
  },
  {
   "cell_type": "code",
   "execution_count": 78,
   "id": "cb18b14f",
   "metadata": {},
   "outputs": [
    {
     "data": {
      "text/plain": [
       "[1, 1, 1]"
      ]
     },
     "execution_count": 78,
     "metadata": {},
     "output_type": "execute_result"
    }
   ],
   "source": [
    "c.y"
   ]
  },
  {
   "cell_type": "code",
   "execution_count": 79,
   "id": "cc55951d",
   "metadata": {},
   "outputs": [],
   "source": [
    "cc.list_to_y()"
   ]
  },
  {
   "cell_type": "code",
   "execution_count": 80,
   "id": "0ceb1f3c",
   "metadata": {},
   "outputs": [
    {
     "data": {
      "text/plain": [
       "[1, 1, 1, 2]"
      ]
     },
     "execution_count": 80,
     "metadata": {},
     "output_type": "execute_result"
    }
   ],
   "source": [
    "cc.y"
   ]
  },
  {
   "cell_type": "code",
   "execution_count": 81,
   "id": "d43d94bb",
   "metadata": {},
   "outputs": [],
   "source": [
    "cc.list_to_y()"
   ]
  },
  {
   "cell_type": "code",
   "execution_count": 82,
   "id": "02d62f9a",
   "metadata": {},
   "outputs": [
    {
     "data": {
      "text/plain": [
       "[1, 1, 1, 2, 2]"
      ]
     },
     "execution_count": 82,
     "metadata": {},
     "output_type": "execute_result"
    }
   ],
   "source": [
    "cc.y"
   ]
  },
  {
   "cell_type": "code",
   "execution_count": 83,
   "id": "f79871c2",
   "metadata": {},
   "outputs": [],
   "source": [
    "from collections import defaultdict"
   ]
  },
  {
   "cell_type": "code",
   "execution_count": 84,
   "id": "ee0ac60f",
   "metadata": {},
   "outputs": [],
   "source": [
    "dd = defaultdict(lambda: [])"
   ]
  },
  {
   "cell_type": "code",
   "execution_count": 85,
   "id": "cb90be16",
   "metadata": {},
   "outputs": [],
   "source": [
    "for i in range(10):\n",
    "    dd[i % 5].append(i)"
   ]
  },
  {
   "cell_type": "code",
   "execution_count": 86,
   "id": "71f545cc",
   "metadata": {},
   "outputs": [
    {
     "data": {
      "text/plain": [
       "defaultdict(<function __main__.<lambda>()>,\n",
       "            {0: [0, 5], 1: [1, 6], 2: [2, 7], 3: [3, 8], 4: [4, 9]})"
      ]
     },
     "execution_count": 86,
     "metadata": {},
     "output_type": "execute_result"
    }
   ],
   "source": [
    "dd"
   ]
  },
  {
   "cell_type": "code",
   "execution_count": 87,
   "id": "4ddeb4f9",
   "metadata": {},
   "outputs": [],
   "source": [
    "ll = [[]]*10"
   ]
  },
  {
   "cell_type": "code",
   "execution_count": 89,
   "id": "f8e706a8",
   "metadata": {},
   "outputs": [],
   "source": [
    "ll[1].append(1)"
   ]
  },
  {
   "cell_type": "code",
   "execution_count": 90,
   "id": "d34ba353",
   "metadata": {},
   "outputs": [
    {
     "data": {
      "text/plain": [
       "[[1], [1], [1], [1], [1], [1], [1], [1], [1], [1]]"
      ]
     },
     "execution_count": 90,
     "metadata": {},
     "output_type": "execute_result"
    }
   ],
   "source": [
    "ll"
   ]
  },
  {
   "cell_type": "code",
   "execution_count": 91,
   "id": "caf9a910",
   "metadata": {},
   "outputs": [],
   "source": [
    "lll = [[] for _ in range(10)]"
   ]
  },
  {
   "cell_type": "code",
   "execution_count": 95,
   "id": "c8dc07cb",
   "metadata": {},
   "outputs": [],
   "source": [
    "lll[1].append(1)"
   ]
  },
  {
   "cell_type": "code",
   "execution_count": 96,
   "id": "af618cc6",
   "metadata": {},
   "outputs": [
    {
     "data": {
      "text/plain": [
       "[[], [1], [], [], [], [], [], [], [], [], 1]"
      ]
     },
     "execution_count": 96,
     "metadata": {},
     "output_type": "execute_result"
    }
   ],
   "source": [
    "lll"
   ]
  },
  {
   "cell_type": "code",
   "execution_count": null,
   "id": "7662bc3f",
   "metadata": {},
   "outputs": [],
   "source": []
  },
  {
   "cell_type": "code",
   "execution_count": null,
   "id": "5fe97348",
   "metadata": {},
   "outputs": [],
   "source": []
  },
  {
   "cell_type": "code",
   "execution_count": null,
   "id": "a713149e",
   "metadata": {},
   "outputs": [],
   "source": []
  },
  {
   "cell_type": "code",
   "execution_count": null,
   "id": "f8304d41",
   "metadata": {},
   "outputs": [],
   "source": []
  },
  {
   "cell_type": "code",
   "execution_count": null,
   "id": "748a5848",
   "metadata": {},
   "outputs": [],
   "source": []
  },
  {
   "cell_type": "code",
   "execution_count": null,
   "id": "548721c7",
   "metadata": {},
   "outputs": [],
   "source": []
  },
  {
   "cell_type": "code",
   "execution_count": null,
   "id": "2bf70bbc",
   "metadata": {},
   "outputs": [],
   "source": []
  },
  {
   "cell_type": "code",
   "execution_count": 49,
   "id": "957a287e",
   "metadata": {},
   "outputs": [
    {
     "data": {
      "text/plain": [
       "{'x': 1, 'y': [1, 2, 3]}"
      ]
     },
     "execution_count": 49,
     "metadata": {},
     "output_type": "execute_result"
    }
   ],
   "source": [
    "c.__dict__"
   ]
  },
  {
   "cell_type": "code",
   "execution_count": 40,
   "id": "11442daa",
   "metadata": {},
   "outputs": [],
   "source": [
    "c.inc()"
   ]
  },
  {
   "cell_type": "code",
   "execution_count": 41,
   "id": "6383f24e",
   "metadata": {},
   "outputs": [
    {
     "data": {
      "text/plain": [
       "{'x': 2}"
      ]
     },
     "execution_count": 41,
     "metadata": {},
     "output_type": "execute_result"
    }
   ],
   "source": [
    "c.__dict__"
   ]
  },
  {
   "cell_type": "code",
   "execution_count": 45,
   "id": "ed4e88e6",
   "metadata": {},
   "outputs": [
    {
     "data": {
      "text/plain": [
       "['__annotations__',\n",
       " '__class__',\n",
       " '__delattr__',\n",
       " '__dict__',\n",
       " '__dir__',\n",
       " '__doc__',\n",
       " '__eq__',\n",
       " '__format__',\n",
       " '__ge__',\n",
       " '__getattribute__',\n",
       " '__getstate__',\n",
       " '__gt__',\n",
       " '__hash__',\n",
       " '__init__',\n",
       " '__init_subclass__',\n",
       " '__le__',\n",
       " '__lt__',\n",
       " '__module__',\n",
       " '__ne__',\n",
       " '__new__',\n",
       " '__reduce__',\n",
       " '__reduce_ex__',\n",
       " '__repr__',\n",
       " '__setattr__',\n",
       " '__sizeof__',\n",
       " '__str__',\n",
       " '__subclasshook__',\n",
       " '__weakref__',\n",
       " 'inc',\n",
       " 'x',\n",
       " 'xx']"
      ]
     },
     "execution_count": 45,
     "metadata": {},
     "output_type": "execute_result"
    }
   ],
   "source": [
    "dir(c)"
   ]
  },
  {
   "cell_type": "code",
   "execution_count": 51,
   "id": "3b5aa350",
   "metadata": {},
   "outputs": [],
   "source": [
    "d = {c: 1}"
   ]
  },
  {
   "cell_type": "code",
   "execution_count": 52,
   "id": "220dced1",
   "metadata": {},
   "outputs": [
    {
     "data": {
      "text/plain": [
       "{<__main__.myClass at 0x1058a2360>: 1}"
      ]
     },
     "execution_count": 52,
     "metadata": {},
     "output_type": "execute_result"
    }
   ],
   "source": [
    "d"
   ]
  },
  {
   "cell_type": "code",
   "execution_count": 53,
   "id": "92c70269",
   "metadata": {},
   "outputs": [],
   "source": [
    "cc = myClass(1)"
   ]
  },
  {
   "cell_type": "code",
   "execution_count": 55,
   "id": "2f5976ef",
   "metadata": {},
   "outputs": [
    {
     "data": {
      "text/plain": [
       "1"
      ]
     },
     "execution_count": 55,
     "metadata": {},
     "output_type": "execute_result"
    }
   ],
   "source": [
    "d[c]"
   ]
  },
  {
   "cell_type": "code",
   "execution_count": 56,
   "id": "a14da55c",
   "metadata": {},
   "outputs": [],
   "source": [
    "c.y = [4,5,6]"
   ]
  },
  {
   "cell_type": "code",
   "execution_count": 57,
   "id": "ad19a6d6",
   "metadata": {},
   "outputs": [
    {
     "data": {
      "text/plain": [
       "1"
      ]
     },
     "execution_count": 57,
     "metadata": {},
     "output_type": "execute_result"
    }
   ],
   "source": [
    "d[c]"
   ]
  },
  {
   "cell_type": "code",
   "execution_count": 58,
   "id": "a1c33906",
   "metadata": {},
   "outputs": [
    {
     "ename": "TypeError",
     "evalue": "unhashable type: 'list'",
     "output_type": "error",
     "traceback": [
      "\u001b[0;31m---------------------------------------------------------------------------\u001b[0m",
      "\u001b[0;31mTypeError\u001b[0m                                 Traceback (most recent call last)",
      "Cell \u001b[0;32mIn[58], line 1\u001b[0m\n\u001b[0;32m----> 1\u001b[0m dd \u001b[38;5;241m=\u001b[39m {[\u001b[38;5;241m1\u001b[39m,\u001b[38;5;241m2\u001b[39m,\u001b[38;5;241m3\u001b[39m]: \u001b[38;5;241m1\u001b[39m}\n",
      "\u001b[0;31mTypeError\u001b[0m: unhashable type: 'list'"
     ]
    }
   ],
   "source": [
    "dd = {[1,2,3]: 1}"
   ]
  },
  {
   "cell_type": "code",
   "execution_count": 59,
   "id": "0f612171",
   "metadata": {},
   "outputs": [],
   "source": [
    "d[cc] = 2"
   ]
  },
  {
   "cell_type": "code",
   "execution_count": null,
   "id": "1ddfae8f",
   "metadata": {},
   "outputs": [],
   "source": []
  },
  {
   "cell_type": "code",
   "execution_count": null,
   "id": "91d46940",
   "metadata": {},
   "outputs": [],
   "source": []
  },
  {
   "cell_type": "code",
   "execution_count": null,
   "id": "8d03dbd1",
   "metadata": {},
   "outputs": [],
   "source": []
  },
  {
   "cell_type": "code",
   "execution_count": 97,
   "id": "b1a20846",
   "metadata": {},
   "outputs": [],
   "source": [
    "def func(a, b):\n",
    "    return a + b"
   ]
  },
  {
   "cell_type": "code",
   "execution_count": 98,
   "id": "cba0fc75",
   "metadata": {},
   "outputs": [
    {
     "data": {
      "text/plain": [
       "3"
      ]
     },
     "execution_count": 98,
     "metadata": {},
     "output_type": "execute_result"
    }
   ],
   "source": [
    "func(1,2)"
   ]
  },
  {
   "cell_type": "code",
   "execution_count": 99,
   "id": "beec4ad4",
   "metadata": {},
   "outputs": [
    {
     "data": {
      "text/plain": [
       "'12'"
      ]
     },
     "execution_count": 99,
     "metadata": {},
     "output_type": "execute_result"
    }
   ],
   "source": [
    "func(\"1\", \"2\")"
   ]
  },
  {
   "cell_type": "code",
   "execution_count": 100,
   "id": "37d71d98",
   "metadata": {},
   "outputs": [
    {
     "ename": "TypeError",
     "evalue": "unsupported operand type(s) for +: 'int' and 'str'",
     "output_type": "error",
     "traceback": [
      "\u001b[0;31m---------------------------------------------------------------------------\u001b[0m",
      "\u001b[0;31mTypeError\u001b[0m                                 Traceback (most recent call last)",
      "Cell \u001b[0;32mIn[100], line 1\u001b[0m\n\u001b[0;32m----> 1\u001b[0m \u001b[43mfunc\u001b[49m\u001b[43m(\u001b[49m\u001b[38;5;241;43m1\u001b[39;49m\u001b[43m,\u001b[49m\u001b[43m \u001b[49m\u001b[38;5;124;43m\"\u001b[39;49m\u001b[38;5;124;43m2\u001b[39;49m\u001b[38;5;124;43m\"\u001b[39;49m\u001b[43m)\u001b[49m\n",
      "Cell \u001b[0;32mIn[97], line 2\u001b[0m, in \u001b[0;36mfunc\u001b[0;34m(a, b)\u001b[0m\n\u001b[1;32m      1\u001b[0m \u001b[38;5;28;01mdef\u001b[39;00m \u001b[38;5;21mfunc\u001b[39m(a, b):\n\u001b[0;32m----> 2\u001b[0m     \u001b[38;5;28;01mreturn\u001b[39;00m \u001b[43ma\u001b[49m\u001b[43m \u001b[49m\u001b[38;5;241;43m+\u001b[39;49m\u001b[43m \u001b[49m\u001b[43mb\u001b[49m\n",
      "\u001b[0;31mTypeError\u001b[0m: unsupported operand type(s) for +: 'int' and 'str'"
     ]
    }
   ],
   "source": [
    "func(1, \"2\")"
   ]
  },
  {
   "cell_type": "code",
   "execution_count": 127,
   "id": "fbe865ff",
   "metadata": {},
   "outputs": [
    {
     "name": "stdout",
     "output_type": "stream",
     "text": [
      "3\n",
      "1a\n"
     ]
    },
    {
     "ename": "AssertionError",
     "evalue": "",
     "output_type": "error",
     "traceback": [
      "\u001b[0;31m---------------------------------------------------------------------------\u001b[0m",
      "\u001b[0;31mAssertionError\u001b[0m                            Traceback (most recent call last)",
      "Cell \u001b[0;32mIn[127], line 11\u001b[0m\n\u001b[1;32m      9\u001b[0m \u001b[38;5;28mprint\u001b[39m(my_plus(\u001b[38;5;241m1\u001b[39m,\u001b[38;5;241m2\u001b[39m))\n\u001b[1;32m     10\u001b[0m \u001b[38;5;28mprint\u001b[39m(my_plus(\u001b[38;5;124m\"\u001b[39m\u001b[38;5;124m1\u001b[39m\u001b[38;5;124m\"\u001b[39m,\u001b[38;5;124m\"\u001b[39m\u001b[38;5;124ma\u001b[39m\u001b[38;5;124m\"\u001b[39m))\n\u001b[0;32m---> 11\u001b[0m \u001b[38;5;28mprint\u001b[39m(\u001b[43mmy_plus\u001b[49m\u001b[43m(\u001b[49m\u001b[38;5;241;43m1\u001b[39;49m\u001b[43m,\u001b[49m\u001b[38;5;124;43m\"\u001b[39;49m\u001b[38;5;124;43ma\u001b[39;49m\u001b[38;5;124;43m\"\u001b[39;49m\u001b[43m)\u001b[49m)\n",
      "Cell \u001b[0;32mIn[127], line 4\u001b[0m, in \u001b[0;36mmy_plus\u001b[0;34m(a, b)\u001b[0m\n\u001b[1;32m      3\u001b[0m \u001b[38;5;28;01mdef\u001b[39;00m \u001b[38;5;21mmy_plus\u001b[39m(a: \u001b[38;5;28mint\u001b[39m \u001b[38;5;241m|\u001b[39m \u001b[38;5;28mstr\u001b[39m, b: \u001b[38;5;28mint\u001b[39m\u001b[38;5;241m|\u001b[39m \u001b[38;5;28mstr\u001b[39m):\n\u001b[0;32m----> 4\u001b[0m     \u001b[38;5;28;01massert\u001b[39;00m \u001b[38;5;28mtype\u001b[39m(a) \u001b[38;5;129;01mis\u001b[39;00m \u001b[38;5;28mtype\u001b[39m(b)\n\u001b[1;32m      5\u001b[0m     \u001b[38;5;28;01mif\u001b[39;00m \u001b[38;5;28misinstance\u001b[39m(a, \u001b[38;5;28mint\u001b[39m):\n\u001b[1;32m      6\u001b[0m         a \u001b[38;5;241m=\u001b[39m cast(\u001b[38;5;28mint\u001b[39m, a)\n",
      "\u001b[0;31mAssertionError\u001b[0m: "
     ]
    }
   ],
   "source": [
    "from typing import cast\n",
    "\n",
    "def my_plus(a: int | str, b: int| str):\n",
    "    assert type(a) is type(b)\n",
    "    if isinstance(a, int):\n",
    "        a = cast(int, a)\n",
    "        b = cast(int, b)\n",
    "    return a + b\n",
    "print(my_plus(1,2))\n",
    "print(my_plus(\"1\",\"a\"))\n",
    "print(my_plus(1,\"a\"))"
   ]
  },
  {
   "cell_type": "code",
   "execution_count": 104,
   "id": "9b281175",
   "metadata": {},
   "outputs": [],
   "source": [
    "from typing import Iterable, Callable\n",
    "from itertools import chain"
   ]
  },
  {
   "cell_type": "code",
   "execution_count": 109,
   "id": "36f820a1",
   "metadata": {},
   "outputs": [],
   "source": [
    "def chain_map(*args: Iterable, f:Callable = lambda: None) -> []:\n",
    "    return list(map(f, chain.from_iterable(args)))"
   ]
  },
  {
   "cell_type": "code",
   "execution_count": 112,
   "id": "cd059db9",
   "metadata": {},
   "outputs": [
    {
     "data": {
      "text/plain": [
       "[1, 4, 9, 16, 25, 36, 49, 64, 81]"
      ]
     },
     "execution_count": 112,
     "metadata": {},
     "output_type": "execute_result"
    }
   ],
   "source": [
    "chain_map([1,2,3], {4,5,6}, (7,8,9), f=lambda x: x**2)"
   ]
  },
  {
   "cell_type": "code",
   "execution_count": 122,
   "id": "edc29b44",
   "metadata": {},
   "outputs": [],
   "source": [
    "class myClassChild(myClass):\n",
    "    def __init__(self, x):\n",
    "        super().__init__(x)\n",
    "        self.z = \"Hello!\""
   ]
  },
  {
   "cell_type": "code",
   "execution_count": 123,
   "id": "b785e14f",
   "metadata": {},
   "outputs": [],
   "source": [
    "d = myClassChild(1)"
   ]
  },
  {
   "cell_type": "code",
   "execution_count": 125,
   "id": "aeefa566",
   "metadata": {},
   "outputs": [
    {
     "data": {
      "text/plain": [
       "(True, True)"
      ]
     },
     "execution_count": 125,
     "metadata": {},
     "output_type": "execute_result"
    }
   ],
   "source": [
    "isinstance(d, myClassChild), isinstance(d, myClass)"
   ]
  },
  {
   "cell_type": "code",
   "execution_count": 126,
   "id": "8517f461",
   "metadata": {},
   "outputs": [
    {
     "data": {
      "text/plain": [
       "1"
      ]
     },
     "execution_count": 126,
     "metadata": {},
     "output_type": "execute_result"
    }
   ],
   "source": [
    "d.x"
   ]
  },
  {
   "cell_type": "code",
   "execution_count": 128,
   "id": "d7270014",
   "metadata": {},
   "outputs": [
    {
     "data": {
      "text/plain": [
       "3"
      ]
     },
     "execution_count": 128,
     "metadata": {},
     "output_type": "execute_result"
    }
   ],
   "source": [
    "t = (1,2)\n",
    "my_plus(*t)"
   ]
  },
  {
   "cell_type": "code",
   "execution_count": 129,
   "id": "9fbb68b0",
   "metadata": {},
   "outputs": [
    {
     "ename": "TypeError",
     "evalue": "my_plus() takes 2 positional arguments but 3 were given",
     "output_type": "error",
     "traceback": [
      "\u001b[0;31m---------------------------------------------------------------------------\u001b[0m",
      "\u001b[0;31mTypeError\u001b[0m                                 Traceback (most recent call last)",
      "Cell \u001b[0;32mIn[129], line 1\u001b[0m\n\u001b[0;32m----> 1\u001b[0m \u001b[43mmy_plus\u001b[49m\u001b[43m(\u001b[49m\u001b[38;5;241;43m1\u001b[39;49m\u001b[43m,\u001b[49m\u001b[38;5;241;43m2\u001b[39;49m\u001b[43m,\u001b[49m\u001b[38;5;241;43m3\u001b[39;49m\u001b[43m)\u001b[49m\n",
      "\u001b[0;31mTypeError\u001b[0m: my_plus() takes 2 positional arguments but 3 were given"
     ]
    }
   ],
   "source": [
    "my_plus(1,2,3)"
   ]
  },
  {
   "cell_type": "code",
   "execution_count": null,
   "id": "307fc74b",
   "metadata": {},
   "outputs": [],
   "source": []
  }
 ],
 "metadata": {
  "kernelspec": {
   "display_name": "Python 3 (ipykernel)",
   "language": "python",
   "name": "python3"
  },
  "language_info": {
   "codemirror_mode": {
    "name": "ipython",
    "version": 3
   },
   "file_extension": ".py",
   "mimetype": "text/x-python",
   "name": "python",
   "nbconvert_exporter": "python",
   "pygments_lexer": "ipython3",
   "version": "3.12.2"
  }
 },
 "nbformat": 4,
 "nbformat_minor": 5
}
