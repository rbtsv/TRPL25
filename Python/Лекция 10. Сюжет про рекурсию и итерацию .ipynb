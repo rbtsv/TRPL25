{
 "cells": [
  {
   "cell_type": "code",
   "execution_count": 1,
   "id": "c6caa373",
   "metadata": {},
   "outputs": [],
   "source": [
    "%load_ext memory_profiler \n",
    "# %memit\n",
    "\n",
    "max1_tests_path = \"./1-HelloWorld/1-2-max/tests\"\n",
    "cont_lis_path, cont_lis_tst = \"../1-HelloWorld/cont_lis/\", \"t4\"\n",
    "\n",
    "def create_input(tests_path=max1_tests_path, test_num = \"01\"):\n",
    "    test_file = open(f\"{tests_path}/{test_num}\", \"r\")\n",
    "    return test_file.readline\n",
    "\n",
    "input = create_input()\n",
    "\n",
    "def read_int():\n",
    "    return int(input())\n",
    "\n",
    "def print_cf_style_input(tests_path=max1_tests_path, test_num = \"01\"):\n",
    "    test_file = open(f\"{tests_path}/{test_num}\", \"r\")\n",
    "    print(\"входные данные:\")\n",
    "    print(test_file.read())\n",
    "    print(\"выходные данные:\\n\")"
   ]
  },
  {
   "cell_type": "code",
   "execution_count": 2,
   "id": "9db8ecd0",
   "metadata": {},
   "outputs": [],
   "source": [
    "class InputIterator:\n",
    "    def __init__(self, tests_path=max1_tests_path, test_num = \"01\"):\n",
    "        self.input = create_input(tests_path, test_num)\n",
    "        self.n = int(self.input())\n",
    "        self.cur = 0\n",
    "        \n",
    "    def __iter__(self):        \n",
    "        return self\n",
    "    \n",
    "    def __next__(self):\n",
    "        if self.cur < self.n:\n",
    "            self.cur += 1\n",
    "            return(int(self.input()))\n",
    "        raise StopIteration\n",
    "        "
   ]
  },
  {
   "cell_type": "markdown",
   "id": "01186383",
   "metadata": {},
   "source": [
    "# Рекурсия и итерация"
   ]
  },
  {
   "cell_type": "code",
   "execution_count": 3,
   "id": "89add355",
   "metadata": {},
   "outputs": [],
   "source": [
    "iter_inp = InputIterator()"
   ]
  },
  {
   "cell_type": "code",
   "execution_count": 4,
   "id": "adb75ceb",
   "metadata": {},
   "outputs": [
    {
     "data": {
      "text/plain": [
       "[1, 3, 2, 7, 9, 4, 6, 5, 10, 8]"
      ]
     },
     "execution_count": 4,
     "metadata": {},
     "output_type": "execute_result"
    }
   ],
   "source": [
    "list(iter_inp)"
   ]
  },
  {
   "cell_type": "code",
   "execution_count": 5,
   "id": "93bffacb",
   "metadata": {},
   "outputs": [
    {
     "name": "stdout",
     "output_type": "stream",
     "text": [
      "10\n"
     ]
    }
   ],
   "source": [
    "iter_inp = InputIterator()\n",
    "m = next(iter_inp)\n",
    "\n",
    "for x in iter_inp:\n",
    "    m = max(m, x)\n",
    "    \n",
    "print(m)"
   ]
  },
  {
   "cell_type": "code",
   "execution_count": 6,
   "id": "cc8dc5d3",
   "metadata": {},
   "outputs": [
    {
     "data": {
      "text/plain": [
       "10"
      ]
     },
     "execution_count": 6,
     "metadata": {},
     "output_type": "execute_result"
    }
   ],
   "source": [
    "max(InputIterator())"
   ]
  },
  {
   "cell_type": "code",
   "execution_count": 7,
   "id": "d103a921",
   "metadata": {},
   "outputs": [
    {
     "name": "stdout",
     "output_type": "stream",
     "text": [
      "CPU times: user 1.67 s, sys: 39 ms, total: 1.7 s\n",
      "Wall time: 1.8 s\n"
     ]
    }
   ],
   "source": [
    "%%time\n",
    "m = 0\n",
    "for x in range(10**7):\n",
    "    m = max(m, x)"
   ]
  },
  {
   "cell_type": "code",
   "execution_count": 8,
   "id": "547c01a7",
   "metadata": {},
   "outputs": [
    {
     "name": "stdout",
     "output_type": "stream",
     "text": [
      "CPU times: user 666 ms, sys: 15.9 ms, total: 682 ms\n",
      "Wall time: 714 ms\n"
     ]
    }
   ],
   "source": [
    "%%time\n",
    "m = 0\n",
    "for x in range(10**7):\n",
    "    m = m if m > x else x"
   ]
  },
  {
   "cell_type": "code",
   "execution_count": 9,
   "id": "1f4184ae",
   "metadata": {},
   "outputs": [
    {
     "data": {
      "text/plain": [
       "(3, 5, 7)"
      ]
     },
     "execution_count": 9,
     "metadata": {},
     "output_type": "execute_result"
    }
   ],
   "source": [
    "max([1,2,3]), max({1,5,3}), max((7,2,3))"
   ]
  },
  {
   "cell_type": "code",
   "execution_count": 10,
   "id": "408e4c22",
   "metadata": {},
   "outputs": [
    {
     "name": "stdout",
     "output_type": "stream",
     "text": [
      "10\n"
     ]
    }
   ],
   "source": [
    "iter_inp = InputIterator()\n",
    "m = next(iter_inp)\n",
    "\n",
    "for x in iter_inp:\n",
    "    m = max(m, x)\n",
    "    \n",
    "print(m)"
   ]
  },
  {
   "cell_type": "code",
   "execution_count": 11,
   "id": "43915cd5",
   "metadata": {},
   "outputs": [],
   "source": [
    "func_iter = lambda m, x: max(m, x)"
   ]
  },
  {
   "cell_type": "code",
   "execution_count": 12,
   "id": "7fd03377",
   "metadata": {},
   "outputs": [
    {
     "name": "stdout",
     "output_type": "stream",
     "text": [
      "10\n"
     ]
    }
   ],
   "source": [
    "iter_inp = InputIterator()\n",
    "m = next(iter_inp)\n",
    "\n",
    "for x in iter_inp:\n",
    "    m = func_iter(m, x)\n",
    "    \n",
    "print(m)"
   ]
  },
  {
   "cell_type": "code",
   "execution_count": 13,
   "id": "f6c5f00b",
   "metadata": {},
   "outputs": [
    {
     "data": {
      "text/plain": [
       "10"
      ]
     },
     "execution_count": 13,
     "metadata": {},
     "output_type": "execute_result"
    }
   ],
   "source": [
    "from functools import reduce\n",
    "reduce(func_iter, InputIterator(), -100000 )"
   ]
  },
  {
   "cell_type": "code",
   "execution_count": 14,
   "id": "743be364",
   "metadata": {},
   "outputs": [
    {
     "name": "stdout",
     "output_type": "stream",
     "text": [
      "10\n"
     ]
    }
   ],
   "source": [
    "from functools import reduce\n",
    "iter_inp = InputIterator()\n",
    "acc = next(iter_inp)\n",
    "result = reduce(func_iter, iter_inp, acc)\n",
    "print(result)"
   ]
  },
  {
   "cell_type": "code",
   "execution_count": 15,
   "id": "72a66f21",
   "metadata": {},
   "outputs": [
    {
     "data": {
      "text/plain": [
       "10"
      ]
     },
     "execution_count": 15,
     "metadata": {},
     "output_type": "execute_result"
    }
   ],
   "source": [
    "reduce(max, (iter_inp := InputIterator()), next(iter_inp))"
   ]
  },
  {
   "cell_type": "code",
   "execution_count": 16,
   "id": "3b712c7d",
   "metadata": {},
   "outputs": [
    {
     "ename": "SyntaxError",
     "evalue": "cannot assign to expression here. Maybe you meant '==' instead of '='? (3399975808.py, line 1)",
     "output_type": "error",
     "traceback": [
      "\u001b[0;36m  Cell \u001b[0;32mIn[16], line 1\u001b[0;36m\u001b[0m\n\u001b[0;31m    f(x1, ... , xn) // f = max\u001b[0m\n\u001b[0m    ^\u001b[0m\n\u001b[0;31mSyntaxError\u001b[0m\u001b[0;31m:\u001b[0m cannot assign to expression here. Maybe you meant '==' instead of '='?\n"
     ]
    }
   ],
   "source": [
    "f(x1, ... , xn) // f = max\n",
    "f(x1, x2)\n",
    "f(x1, x2, x3)\n",
    "f(x1, ... , xn) = F(f(x1, ... , x_{n-1}), xn)"
   ]
  },
  {
   "cell_type": "code",
   "execution_count": null,
   "id": "d1a8748e",
   "metadata": {},
   "outputs": [],
   "source": [
    "def max_from_iterator(iterator, cur_max = 0):        \n",
    "    try:        \n",
    "        return max_from_iterator(iterator, max(cur_max, next(iterator)))\n",
    "    except StopIteration:\n",
    "        return cur_max    "
   ]
  },
  {
   "cell_type": "code",
   "execution_count": null,
   "id": "c43e6ae3",
   "metadata": {},
   "outputs": [],
   "source": [
    "max_from_iterator(InputIterator())"
   ]
  },
  {
   "cell_type": "code",
   "execution_count": null,
   "id": "9cca56b0",
   "metadata": {},
   "outputs": [],
   "source": [
    "list(InputIterator())"
   ]
  },
  {
   "cell_type": "code",
   "execution_count": null,
   "id": "17d4d858",
   "metadata": {},
   "outputs": [],
   "source": [
    "iter_inp = InputIterator()\n",
    "m2, m1 = sorted([next(iter_inp), next(iter_inp)])\n",
    "#print(m1, m2)\n",
    "while True:\n",
    "    try:        \n",
    "        x = next(iter_inp)\n",
    "        if x > m1:\n",
    "            m1 = x # Неверный порядок действий!\n",
    "            m2 = m1 # \n",
    "        else: # x <= m1\n",
    "            m2 = max(x, m2)            \n",
    "    except StopIteration:\n",
    "        print(m1, m2)\n",
    "        break"
   ]
  },
  {
   "cell_type": "code",
   "execution_count": null,
   "id": "53cf64ab",
   "metadata": {},
   "outputs": [],
   "source": [
    "iter_inp = InputIterator()\n",
    "m2, m1 = sorted([next(iter_inp), next(iter_inp)])\n",
    "#print(m1, m2)\n",
    "while True:\n",
    "    try:        \n",
    "        x = next(iter_inp)\n",
    "        if x > m1:\n",
    "            m2 = m1\n",
    "            m1 = x  \n",
    "        else: # x <= m1\n",
    "            m2 = max(x, m2)            \n",
    "    except StopIteration:\n",
    "        print(m1, m2)\n",
    "        break"
   ]
  },
  {
   "cell_type": "code",
   "execution_count": null,
   "id": "b3b35ecc",
   "metadata": {},
   "outputs": [],
   "source": [
    "reduce(lambda acc, x: sorted([*acc, x])[1:], (iter_inp := InputIterator()), \n",
    "       sorted([next(iter_inp), next(iter_inp)]))"
   ]
  },
  {
   "cell_type": "code",
   "execution_count": null,
   "id": "5867806d",
   "metadata": {},
   "outputs": [],
   "source": [
    "f(x1, ... , xn) // f = max\n",
    "f(x1, x2)\n",
    "f(x1, x2, x3)\n",
    "f(x1, ... , xn) = F(f(x1, ... , x_{n-1}), xn)\n",
    "f(x1, ... , xn) = F(F(f(x1, ... , x_{n-2}), x_{n-1})), xn)\n",
    "f(x1, ... , xn) = F(F(F(f(x1, ... , x_{n-3}) x_{n-2}), x_{n-1})), xn)"
   ]
  },
  {
   "cell_type": "code",
   "execution_count": null,
   "id": "6f71fdfc",
   "metadata": {},
   "outputs": [],
   "source": [
    "def max_from_iterator(iterator, cur_max = 0):        \n",
    "    try:        \n",
    "        return max_from_iterator(iterator, max(cur_max, next(iterator)))\n",
    "    except StopIteration:\n",
    "        return cur_max    "
   ]
  },
  {
   "cell_type": "code",
   "execution_count": null,
   "id": "e346ccc8",
   "metadata": {},
   "outputs": [],
   "source": [
    "max_from_iterator(InputIterator(test_num = \"09\"))"
   ]
  },
  {
   "cell_type": "code",
   "execution_count": null,
   "id": "a6e8a180",
   "metadata": {},
   "outputs": [],
   "source": [
    "max(InputIterator(test_num = \"09\"))"
   ]
  },
  {
   "cell_type": "code",
   "execution_count": null,
   "id": "60b588d7",
   "metadata": {},
   "outputs": [],
   "source": [
    "reduce(max, InputIterator(test_num = \"09\"))"
   ]
  },
  {
   "cell_type": "markdown",
   "id": "58c596ed",
   "metadata": {},
   "source": [
    "## Числа Фибоначчи"
   ]
  },
  {
   "cell_type": "code",
   "execution_count": 20,
   "id": "8b20a628",
   "metadata": {},
   "outputs": [],
   "source": [
    "def Fib(n):\n",
    "    if n <= 2:\n",
    "        return 1\n",
    "    return Fib(n-1) + Fib(n-2)"
   ]
  },
  {
   "cell_type": "code",
   "execution_count": 21,
   "id": "758c8fab",
   "metadata": {},
   "outputs": [
    {
     "data": {
      "text/plain": [
       "[1, 1, 2, 3, 5, 8, 13, 21, 34]"
      ]
     },
     "execution_count": 21,
     "metadata": {},
     "output_type": "execute_result"
    }
   ],
   "source": [
    "[Fib(i) for i in range(1,10)]"
   ]
  },
  {
   "cell_type": "code",
   "execution_count": 22,
   "id": "edc67a1a",
   "metadata": {},
   "outputs": [],
   "source": [
    "def iter_Fib(n):\n",
    "    a, b = 1, 1\n",
    "    for i in range(n-2):\n",
    "        a, b = a+b, a\n",
    "    return a"
   ]
  },
  {
   "cell_type": "code",
   "execution_count": 23,
   "id": "f852f5b9",
   "metadata": {},
   "outputs": [
    {
     "data": {
      "text/plain": [
       "[1, 1, 2, 3, 5, 8, 13, 21, 34]"
      ]
     },
     "execution_count": 23,
     "metadata": {},
     "output_type": "execute_result"
    }
   ],
   "source": [
    "[iter_Fib(i) for i in range(1,10)]"
   ]
  },
  {
   "cell_type": "code",
   "execution_count": 24,
   "id": "576c2916",
   "metadata": {},
   "outputs": [
    {
     "name": "stdout",
     "output_type": "stream",
     "text": [
      "CPU times: user 6.78 s, sys: 129 ms, total: 6.91 s\n",
      "Wall time: 7.35 s\n"
     ]
    },
    {
     "data": {
      "text/plain": [
       "102334155"
      ]
     },
     "execution_count": 24,
     "metadata": {},
     "output_type": "execute_result"
    }
   ],
   "source": [
    "%%time\n",
    "Fib(40)"
   ]
  },
  {
   "cell_type": "code",
   "execution_count": 25,
   "id": "bb33df6c",
   "metadata": {},
   "outputs": [
    {
     "name": "stdout",
     "output_type": "stream",
     "text": [
      "CPU times: user 4 µs, sys: 0 ns, total: 4 µs\n",
      "Wall time: 5.01 µs\n"
     ]
    },
    {
     "data": {
      "text/plain": [
       "102334155"
      ]
     },
     "execution_count": 25,
     "metadata": {},
     "output_type": "execute_result"
    }
   ],
   "source": [
    "%%time\n",
    "iter_Fib(40)"
   ]
  },
  {
   "cell_type": "code",
   "execution_count": 26,
   "id": "173f35b0",
   "metadata": {},
   "outputs": [],
   "source": [
    "from functools import lru_cache\n",
    "\n",
    "@lru_cache\n",
    "def lru_Fib(n):\n",
    "    if n <= 2:\n",
    "        return 1\n",
    "    return lru_Fib(n-1) + lru_Fib(n-2)"
   ]
  },
  {
   "cell_type": "code",
   "execution_count": 27,
   "id": "4fd150fa",
   "metadata": {},
   "outputs": [
    {
     "name": "stdout",
     "output_type": "stream",
     "text": [
      "CPU times: user 13 µs, sys: 4 µs, total: 17 µs\n",
      "Wall time: 18.8 µs\n"
     ]
    },
    {
     "data": {
      "text/plain": [
       "102334155"
      ]
     },
     "execution_count": 27,
     "metadata": {},
     "output_type": "execute_result"
    }
   ],
   "source": [
    "%%time\n",
    "lru_Fib(40)"
   ]
  },
  {
   "cell_type": "code",
   "execution_count": 30,
   "id": "8c5d2222",
   "metadata": {},
   "outputs": [
    {
     "ename": "RecursionError",
     "evalue": "maximum recursion depth exceeded",
     "output_type": "error",
     "traceback": [
      "\u001b[0;31m---------------------------------------------------------------------------\u001b[0m",
      "\u001b[0;31mRecursionError\u001b[0m                            Traceback (most recent call last)",
      "File \u001b[0;32m<timed eval>:1\u001b[0m\n",
      "Cell \u001b[0;32mIn[26], line 7\u001b[0m, in \u001b[0;36mlru_Fib\u001b[0;34m(n)\u001b[0m\n\u001b[1;32m      5\u001b[0m \u001b[38;5;28;01mif\u001b[39;00m n \u001b[38;5;241m<\u001b[39m\u001b[38;5;241m=\u001b[39m \u001b[38;5;241m2\u001b[39m:\n\u001b[1;32m      6\u001b[0m     \u001b[38;5;28;01mreturn\u001b[39;00m \u001b[38;5;241m1\u001b[39m\n\u001b[0;32m----> 7\u001b[0m \u001b[38;5;28;01mreturn\u001b[39;00m \u001b[43mlru_Fib\u001b[49m\u001b[43m(\u001b[49m\u001b[43mn\u001b[49m\u001b[38;5;241;43m-\u001b[39;49m\u001b[38;5;241;43m1\u001b[39;49m\u001b[43m)\u001b[49m \u001b[38;5;241m+\u001b[39m lru_Fib(n\u001b[38;5;241m-\u001b[39m\u001b[38;5;241m2\u001b[39m)\n",
      "Cell \u001b[0;32mIn[26], line 7\u001b[0m, in \u001b[0;36mlru_Fib\u001b[0;34m(n)\u001b[0m\n\u001b[1;32m      5\u001b[0m \u001b[38;5;28;01mif\u001b[39;00m n \u001b[38;5;241m<\u001b[39m\u001b[38;5;241m=\u001b[39m \u001b[38;5;241m2\u001b[39m:\n\u001b[1;32m      6\u001b[0m     \u001b[38;5;28;01mreturn\u001b[39;00m \u001b[38;5;241m1\u001b[39m\n\u001b[0;32m----> 7\u001b[0m \u001b[38;5;28;01mreturn\u001b[39;00m \u001b[43mlru_Fib\u001b[49m\u001b[43m(\u001b[49m\u001b[43mn\u001b[49m\u001b[38;5;241;43m-\u001b[39;49m\u001b[38;5;241;43m1\u001b[39;49m\u001b[43m)\u001b[49m \u001b[38;5;241m+\u001b[39m lru_Fib(n\u001b[38;5;241m-\u001b[39m\u001b[38;5;241m2\u001b[39m)\n",
      "    \u001b[0;31m[... skipping similar frames: lru_Fib at line 7 (490 times)]\u001b[0m\n",
      "Cell \u001b[0;32mIn[26], line 7\u001b[0m, in \u001b[0;36mlru_Fib\u001b[0;34m(n)\u001b[0m\n\u001b[1;32m      5\u001b[0m \u001b[38;5;28;01mif\u001b[39;00m n \u001b[38;5;241m<\u001b[39m\u001b[38;5;241m=\u001b[39m \u001b[38;5;241m2\u001b[39m:\n\u001b[1;32m      6\u001b[0m     \u001b[38;5;28;01mreturn\u001b[39;00m \u001b[38;5;241m1\u001b[39m\n\u001b[0;32m----> 7\u001b[0m \u001b[38;5;28;01mreturn\u001b[39;00m \u001b[43mlru_Fib\u001b[49m\u001b[43m(\u001b[49m\u001b[43mn\u001b[49m\u001b[38;5;241;43m-\u001b[39;49m\u001b[38;5;241;43m1\u001b[39;49m\u001b[43m)\u001b[49m \u001b[38;5;241m+\u001b[39m lru_Fib(n\u001b[38;5;241m-\u001b[39m\u001b[38;5;241m2\u001b[39m)\n",
      "\u001b[0;31mRecursionError\u001b[0m: maximum recursion depth exceeded"
     ]
    }
   ],
   "source": [
    "%%time\n",
    "lru_Fib(1000)"
   ]
  },
  {
   "cell_type": "code",
   "execution_count": 31,
   "id": "78e85565",
   "metadata": {},
   "outputs": [
    {
     "name": "stdout",
     "output_type": "stream",
     "text": [
      "CPU times: user 112 µs, sys: 1e+03 ns, total: 113 µs\n",
      "Wall time: 114 µs\n"
     ]
    },
    {
     "data": {
      "text/plain": [
       "43466557686937456435688527675040625802564660517371780402481729089536555417949051890403879840079255169295922593080322634775209689623239873322471161642996440906533187938298969649928516003704476137795166849228875"
      ]
     },
     "execution_count": 31,
     "metadata": {},
     "output_type": "execute_result"
    }
   ],
   "source": [
    "%%time\n",
    "iter_Fib(1000)"
   ]
  },
  {
   "cell_type": "code",
   "execution_count": 32,
   "id": "d71ad65d",
   "metadata": {},
   "outputs": [],
   "source": [
    "def Fib(n):          # 0\n",
    "    if n <= 2:       \n",
    "        r = 1\n",
    "    else:        \n",
    "        a = Fib(n-1) # 1\n",
    "        b = Fib(n-2) # 2\n",
    "        r = a + b    \n",
    "    return r         # 3"
   ]
  },
  {
   "cell_type": "code",
   "execution_count": 33,
   "id": "f96a64b9",
   "metadata": {},
   "outputs": [],
   "source": [
    "def iter_stack_Fib(x):\n",
    "    s = [(0, x, None, None, None)] # (line, n, a, b, r)\n",
    "    while s:\n",
    "        line, n, a, b, r = s.pop()\n",
    "        if line == 3:\n",
    "            result = r\n",
    "        elif line == 0:\n",
    "            if n <= 2:       \n",
    "                #result = 1\n",
    "                s.append((3, n, a, b, 1))\n",
    "            else:      \n",
    "                s.append((1, n, a, b, r))\n",
    "                s.append((0, n-1, None, None, None))\n",
    "        elif line == 1:\n",
    "            a = result\n",
    "            s.append((2, n, a, b, r))\n",
    "            s.append((0, n-2, None, None, None))\n",
    "        elif line == 2:\n",
    "            b = result\n",
    "            s.append((3, n, a, b, a+b))            \n",
    "    return result"
   ]
  },
  {
   "cell_type": "code",
   "execution_count": 34,
   "id": "1a783f26",
   "metadata": {},
   "outputs": [
    {
     "data": {
      "text/plain": [
       "[1, 1, 2, 3, 5, 8, 13, 21, 34]"
      ]
     },
     "execution_count": 34,
     "metadata": {},
     "output_type": "execute_result"
    }
   ],
   "source": [
    "[iter_stack_Fib(i) for i in range(1,10)]"
   ]
  },
  {
   "cell_type": "code",
   "execution_count": 37,
   "id": "446ce676",
   "metadata": {},
   "outputs": [
    {
     "name": "stdout",
     "output_type": "stream",
     "text": [
      "CPU times: user 40.9 s, sys: 545 ms, total: 41.4 s\n",
      "Wall time: 43 s\n"
     ]
    },
    {
     "data": {
      "text/plain": [
       "102334155"
      ]
     },
     "execution_count": 37,
     "metadata": {},
     "output_type": "execute_result"
    }
   ],
   "source": [
    "%%time\n",
    "iter_stack_Fib(40)"
   ]
  },
  {
   "cell_type": "code",
   "execution_count": 38,
   "id": "e6807227",
   "metadata": {},
   "outputs": [
    {
     "name": "stdout",
     "output_type": "stream",
     "text": [
      "CPU times: user 8.37 s, sys: 139 ms, total: 8.51 s\n",
      "Wall time: 8.86 s\n"
     ]
    },
    {
     "data": {
      "text/plain": [
       "102334155"
      ]
     },
     "execution_count": 38,
     "metadata": {},
     "output_type": "execute_result"
    }
   ],
   "source": [
    "%%time\n",
    "Fib(40)"
   ]
  },
  {
   "cell_type": "code",
   "execution_count": 45,
   "id": "cf67dc70",
   "metadata": {},
   "outputs": [],
   "source": [
    "def iter_stack_Fib(x):\n",
    "    s = [(0, x, None, None)] # (line, n, a, b)\n",
    "    while s:\n",
    "        line, n, a, b = s.pop()        \n",
    "        if line == 0:\n",
    "            if n <= 2:       \n",
    "                result = 1                \n",
    "            else:      \n",
    "                s.append((1, n, a, b))\n",
    "                s.append((0, n-1, None, None))\n",
    "        elif line == 1:\n",
    "            a = result\n",
    "            s.append((2, n, a, b))\n",
    "            s.append((0, n-2, None, None))\n",
    "        elif line == 2:\n",
    "            b = result\n",
    "            result = a+b\n",
    "    return result"
   ]
  },
  {
   "cell_type": "code",
   "execution_count": 46,
   "id": "de01a5d7",
   "metadata": {},
   "outputs": [
    {
     "data": {
      "text/plain": [
       "[1, 1, 2, 3, 5, 8, 13, 21, 34]"
      ]
     },
     "execution_count": 46,
     "metadata": {},
     "output_type": "execute_result"
    }
   ],
   "source": [
    "[iter_stack_Fib(i) for i in range(1,10)]"
   ]
  },
  {
   "cell_type": "code",
   "execution_count": null,
   "id": "51dfe9f7",
   "metadata": {},
   "outputs": [],
   "source": []
  },
  {
   "cell_type": "code",
   "execution_count": null,
   "id": "ce59d055",
   "metadata": {},
   "outputs": [],
   "source": []
  }
 ],
 "metadata": {
  "kernelspec": {
   "display_name": "Python 3 (ipykernel)",
   "language": "python",
   "name": "python3"
  },
  "language_info": {
   "codemirror_mode": {
    "name": "ipython",
    "version": 3
   },
   "file_extension": ".py",
   "mimetype": "text/x-python",
   "name": "python",
   "nbconvert_exporter": "python",
   "pygments_lexer": "ipython3",
   "version": "3.12.2"
  }
 },
 "nbformat": 4,
 "nbformat_minor": 5
}
